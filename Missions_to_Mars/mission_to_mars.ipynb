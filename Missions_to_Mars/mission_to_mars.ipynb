{
 "cells": [
  {
   "cell_type": "code",
   "execution_count": 1,
   "id": "2ade0341",
   "metadata": {},
   "outputs": [],
   "source": [
    "from bs4 import BeautifulSoup as bs\n",
    "import requests\n",
    "import pymongo\n",
    "from splinter import Browser\n",
    "from flask import Flask, render_template, redirect\n",
    "from flask_pymongo import PyMongo\n",
    "import pandas as pd\n",
    "from webdriver_manager.chrome import ChromeDriverManager\n",
    "import time\n",
    "from datetime import datetime as dt\n",
    "from dateutil.parser import parse\n"
   ]
  },
  {
   "cell_type": "markdown",
   "id": "e9ad7e44",
   "metadata": {},
   "source": [
    "# NASA Mars News"
   ]
  },
  {
   "cell_type": "code",
   "execution_count": 2,
   "id": "7501a09c",
   "metadata": {},
   "outputs": [],
   "source": [
    "executable_path = {'executable_path': ChromeDriverManager().install()}\n",
    "browser = Browser('chrome', **executable_path, headless=False)\n",
    "# URL of page to be scraped\n",
    "url = 'https://redplanetscience.com/'\n",
    "browser.visit(url)\n",
    "html = browser.html\n",
    "soup = bs(html, 'html.parser')\n"
   ]
  },
  {
   "cell_type": "code",
   "execution_count": 3,
   "id": "a822a279",
   "metadata": {},
   "outputs": [
    {
     "name": "stdout",
     "output_type": "stream",
     "text": [
      "-----------------\n",
      "    NASA's Treasure Map for Water Ice on Mars\n",
      "    A new study identifies frozen water just below the Martian surface, where astronauts could easily dig it up. \n",
      "-----------------\n",
      "    Global Storms on Mars Launch Dust Towers Into the Sky\n",
      "    A Mars Dust Tower Stands Out Dust storms are common on Mars. But every decade or so, something unpredictable happens: a series of runaway storms break out, covering the entire planet in a dusty haze. \n",
      "-----------------\n",
      "    HiRISE Views NASA's InSight and Curiosity on Mars\n",
      "    New images taken from space offer the clearest orbital glimpse yet of InSight as well as a view of Curiosity rolling along. \n",
      "-----------------\n",
      "    Naming a NASA Mars Rover Can Change Your Life\n",
      "    Want to name the robotic scientist NASA is sending to Mars in 2020? The student who named Curiosity — the rover currently exploring Mars — will tell you this is an opportunity worth taking. \n",
      "-----------------\n",
      "    NASA's Perseverance Rover Attached to Atlas V Rocket\n",
      "    Ready for its launch later in the month, the Mars-bound rover will touch terra firma no more. \n",
      "-----------------\n",
      "    All About the Laser (and Microphone) Atop Mars 2020, NASA's Next Rover\n",
      "    SuperCam is a rock-vaporizing instrument that will help scientists hunt for Mars fossils. \n",
      "-----------------\n",
      "    NASA InSight's 'Mole' Is Out of Sight\n",
      "    Now that the heat probe is just below the Martian surface, InSight's arm will scoop some additional soil on top to help it keep digging so it can take Mars' temperature. \n",
      "-----------------\n",
      "    NASA Wins 4 Webbys, 4 People's Voice Awards\n",
      "    Winners include the JPL-managed \"Send Your Name to Mars\" campaign, NASA's Global Climate Change website and Solar System Interactive. \n",
      "-----------------\n",
      "    A Martian Roundtrip: NASA's Perseverance Rover Sample Tubes\n",
      "    Marvels of engineering, the rover's sample tubes must be tough enough to safely bring Red Planet samples on the long journey back to Earth in immaculate condition.  \n",
      "-----------------\n",
      "    From JPL's Mailroom to Mars and Beyond\n",
      "    Bill Allen has thrived as the mechanical systems design lead for three Mars rover missions, but he got his start as a teenager sorting letters for the NASA center. \n",
      "-----------------\n",
      "    While Stargazing on Mars, NASA's Curiosity Rover Spots Earth and Venus\n",
      "    This new portrait of the Red Planet's neighbors was taken during a time when there's more dust in the air on Mars. \n",
      "-----------------\n",
      "    The Launch Is Approaching for NASA's Next Mars Rover, Perseverance\n",
      "    The Red Planet's surface has been visited by eight NASA spacecraft. The ninth will be the first that includes a roundtrip ticket in its flight plan.  \n",
      "-----------------\n",
      "    NASA Mars Mission Connects With Bosnian and Herzegovinian Town\n",
      "    A letter from NASA was presented to the mayor of Jezero, Bosnia-Herzegovina, honoring the connection between the town and Jezero Crater, the Mars 2020 rover landing site. \n",
      "-----------------\n",
      "    NASA's Push to Save the Mars InSight Lander's Heat Probe\n",
      "    The scoop on the end of the spacecraft's robotic arm will be used to 'pin' the mole against the wall of its hole. \n",
      "-----------------\n",
      "    NASA Administrator Statement on Moon to Mars Initiative, FY 2021 Budget\n",
      "    Jim Bridenstine addresses NASA's ambitious plans for the coming years, including Mars Sample Return. \n"
     ]
    }
   ],
   "source": [
    "# Retrieve the parent divs for all articles\n",
    "results = soup.find_all('div', class_='col-md-8')\n",
    "# loop over results to get the data\n",
    "for result in results:\n",
    "    # scrape the titles and previews \n",
    "    news_title = result.find('div', class_='content_title').text\n",
    "    news_p= result.find('div', class_='article_teaser_body').text\n",
    "    # printdata\n",
    "    print(f'''-----------------\n",
    "    {news_title}\n",
    "    {news_p} ''')\n",
    "    \n",
    "\n",
    "    # Dictionary to be inserted into MongoDB later\n",
    "    mars = {\n",
    "        'title': news_title,\n",
    "        'preview': news_p}"
   ]
  },
  {
   "cell_type": "code",
   "execution_count": 4,
   "id": "83c5dffe",
   "metadata": {},
   "outputs": [],
   "source": [
    "# --- visit the Image website ---\n",
    "image_url = 'https://spaceimages-mars.com/'\n",
    "browser.visit(image_url)\n",
    "time.sleep(2)\n",
    "html2 = browser.html\n",
    "soup = bs(html2, 'html.parser')"
   ]
  },
  {
   "cell_type": "code",
   "execution_count": 5,
   "id": "10614c05",
   "metadata": {},
   "outputs": [
    {
     "name": "stdout",
     "output_type": "stream",
     "text": [
      "https://spaceimages-mars.com/image/featured/mars1.jpg\n"
     ]
    }
   ],
   "source": [
    "results = soup.find_all('div', class_='header')\n",
    "# loop over results to get the data\n",
    "for result in results:\n",
    "    image_address = image_url + result.find('img', class_='headerimage fade-in')['src']\n",
    "    print(image_address)"
   ]
  },
  {
   "cell_type": "markdown",
   "id": "d59ba978",
   "metadata": {},
   "source": [
    "# Mars facts"
   ]
  },
  {
   "cell_type": "code",
   "execution_count": 6,
   "id": "f3635445",
   "metadata": {},
   "outputs": [
    {
     "data": {
      "text/plain": [
       "'<table border=\"1\" class=\"dataframe\">  <thead>    <tr style=\"text-align: right;\">      <th></th>      <th>Mars - Earth Comparison</th>      <th>Mars</th>      <th>Earth</th>    </tr>  </thead>  <tbody>    <tr>      <th>1</th>      <td>Diameter:</td>      <td>6,779 km</td>      <td>12,742 km</td>    </tr>    <tr>      <th>2</th>      <td>Mass:</td>      <td>6.39 × 10^23 kg</td>      <td>5.97 × 10^24 kg</td>    </tr>    <tr>      <th>3</th>      <td>Moons:</td>      <td>2</td>      <td>1</td>    </tr>    <tr>      <th>4</th>      <td>Distance from Sun:</td>      <td>227,943,824 km</td>      <td>149,598,262 km</td>    </tr>    <tr>      <th>5</th>      <td>Length of Year:</td>      <td>687 Earth days</td>      <td>365.24 days</td>    </tr>    <tr>      <th>6</th>      <td>Temperature:</td>      <td>-87 to -5 °C</td>      <td>-88 to 58°C</td>    </tr>  </tbody></table>'"
      ]
     },
     "execution_count": 6,
     "metadata": {},
     "output_type": "execute_result"
    }
   ],
   "source": [
    "url = 'https://galaxyfacts-mars.com/'\n",
    "tables = pd.read_html(url)\n",
    "table= tables[0]\n",
    "table1=table.rename(columns=table.iloc[0]).drop(table.index[0]) \n",
    "html_table1 = table1.to_html().replace('\\n', '')\n",
    "html_table1"
   ]
  },
  {
   "cell_type": "code",
   "execution_count": 7,
   "id": "e7deb96a",
   "metadata": {},
   "outputs": [
    {
     "data": {
      "text/plain": [
       "'<table border=\"1\" class=\"dataframe\">  <thead>    <tr style=\"text-align: right;\">      <th></th>      <th>Equatorial Diameter:</th>      <th>6,792 km</th>    </tr>  </thead>  <tbody>    <tr>      <th>1</th>      <td>Polar Diameter:</td>      <td>6,752 km</td>    </tr>    <tr>      <th>2</th>      <td>Mass:</td>      <td>6.39 × 10^23 kg (0.11 Earths)</td>    </tr>    <tr>      <th>3</th>      <td>Moons:</td>      <td>2 ( Phobos &amp; Deimos )</td>    </tr>    <tr>      <th>4</th>      <td>Orbit Distance:</td>      <td>227,943,824 km (1.38 AU)</td>    </tr>    <tr>      <th>5</th>      <td>Orbit Period:</td>      <td>687 days (1.9 years)</td>    </tr>    <tr>      <th>6</th>      <td>Surface Temperature:</td>      <td>-87 to -5 °C</td>    </tr>    <tr>      <th>7</th>      <td>First Record:</td>      <td>2nd millennium BC</td>    </tr>    <tr>      <th>8</th>      <td>Recorded By:</td>      <td>Egyptian astronomers</td>    </tr>  </tbody></table>'"
      ]
     },
     "execution_count": 7,
     "metadata": {},
     "output_type": "execute_result"
    }
   ],
   "source": [
    "Table2= tables[1]\n",
    "table2=Table2.rename(columns=Table2.iloc[0]).drop(Table2.index[0]) \n",
    "html_table2 = table2.to_html().replace('\\n', '')\n",
    "html_table2"
   ]
  },
  {
   "cell_type": "markdown",
   "id": "83d8a6fc",
   "metadata": {},
   "source": [
    "# Mars hemispheres"
   ]
  },
  {
   "cell_type": "code",
   "execution_count": 8,
   "id": "87e19cda",
   "metadata": {},
   "outputs": [],
   "source": [
    "# ---Mars Hemisphere website ---\n",
    "Marsurl = 'https://marshemispheres.com/'\n",
    "browser.visit(Marsurl)\n",
    "time.sleep(2)\n",
    "html = browser.html\n",
    "soup = bs(html, 'html.parser')"
   ]
  },
  {
   "cell_type": "code",
   "execution_count": 9,
   "id": "39a4743d",
   "metadata": {},
   "outputs": [
    {
     "name": "stdout",
     "output_type": "stream",
     "text": [
      "[{'title': 'Cerberus Hemisphere Enhanced', 'img_url': 'https://marshemispheres.com/images/f5e372a36edfa389625da6d0cc25d905_cerberus_enhanced.tif_full.jpg'}, {'title': 'Schiaparelli Hemisphere Enhanced', 'img_url': 'https://marshemispheres.com/images/3778f7b43bbbc89d6e3cfabb3613ba93_schiaparelli_enhanced.tif_full.jpg'}, {'title': 'Syrtis Major Hemisphere Enhanced', 'img_url': 'https://marshemispheres.com/images/555e6403a6ddd7ba16ddb0e471cadcf7_syrtis_major_enhanced.tif_full.jpg'}, {'title': 'Valles Marineris Hemisphere Enhanced', 'img_url': 'https://marshemispheres.com/images/b3c7c6c9138f57b4756be9b9c43e3a48_valles_marineris_enhanced.tif_full.jpg'}]\n"
     ]
    }
   ],
   "source": [
    "# Mars hemispheres products data\n",
    "mars_hemispheres = soup.find_all('div', class_='item')\n",
    "\n",
    "hemisphere_image_urls = []\n",
    "\n",
    "# Iterate through each hemisphere data\n",
    "for hemisphere in mars_hemispheres:\n",
    "    title=hemisphere.find('h3').text.strip()\n",
    "    image_url = [Marsurl+hemisphere.find('a')['href']]\n",
    "    for image in image_url:\n",
    "        browser.visit(image)\n",
    "        time.sleep(2)\n",
    "        html = browser.html\n",
    "        soup = bs(html, 'html.parser')\n",
    "        lastlink =Marsurl+soup.find('img', class_='wide-image')['src']\n",
    "\n",
    "    # Create Dictionary to store title and url info\n",
    "    image_dict = {\n",
    "        'title': title,\n",
    "        'img_url': lastlink}\n",
    "    \n",
    "    hemisphere_image_urls.append(image_dict)\n",
    "\n",
    "print(hemisphere_image_urls)"
   ]
  },
  {
   "cell_type": "code",
   "execution_count": null,
   "id": "173d1864",
   "metadata": {},
   "outputs": [],
   "source": []
  }
 ],
 "metadata": {
  "kernelspec": {
   "display_name": "Python 3 (ipykernel)",
   "language": "python",
   "name": "python3"
  },
  "language_info": {
   "codemirror_mode": {
    "name": "ipython",
    "version": 3
   },
   "file_extension": ".py",
   "mimetype": "text/x-python",
   "name": "python",
   "nbconvert_exporter": "python",
   "pygments_lexer": "ipython3",
   "version": "3.9.7"
  }
 },
 "nbformat": 4,
 "nbformat_minor": 5
}
